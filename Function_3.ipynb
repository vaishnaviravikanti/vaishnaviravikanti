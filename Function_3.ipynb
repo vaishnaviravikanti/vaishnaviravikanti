{
  "nbformat": 4,
  "nbformat_minor": 0,
  "metadata": {
    "colab": {
      "provenance": [],
      "collapsed_sections": [],
      "authorship_tag": "ABX9TyNIMlehtLwyDkkrIn7poOkW",
      "include_colab_link": true
    },
    "kernelspec": {
      "name": "python3",
      "display_name": "Python 3"
    },
    "language_info": {
      "name": "python"
    }
  },
  "cells": [
    {
      "cell_type": "markdown",
      "metadata": {
        "id": "view-in-github",
        "colab_type": "text"
      },
      "source": [
        "<a href=\"https://colab.research.google.com/github/vaishnaviravikanti/vaishnaviravikanti/blob/main/Function_3.ipynb\" target=\"_parent\"><img src=\"https://colab.research.google.com/assets/colab-badge.svg\" alt=\"Open In Colab\"/></a>"
      ]
    },
    {
      "cell_type": "code",
      "execution_count": null,
      "metadata": {
        "id": "J8fwxtGPs3tE"
      },
      "outputs": [],
      "source": [
        "#1. Write a Python function that accepts a string and calculate the number of upper case letters and lower case letters \n",
        "\n",
        "#2. Write a Python function to check whether a string is a pangram or not. \n",
        "\n",
        "#Note : Pangrams are words or sentences containing every letter of the alphabet at least once. \n",
        "#For example: \"The quick brown fox jumps over the lazy dog\" \n",
        "\n",
        "#3. Write a Python function that takes a number as a parameter and check the number is prime or not. \n",
        "\n",
        "#4. Write a Python function to check whether a number is perfect or not."
      ]
    },
    {
      "cell_type": "code",
      "source": [
        "#1\n",
        "def calculate(string):\n",
        "  uppers = 0\n",
        "  lowers = 0\n",
        "  for c in string:\n",
        "      #lower\n",
        "    if c.islower():\n",
        "      lowers += 1\n",
        "      #upper\n",
        "    elif c.isupper():\n",
        "      uppers +=1\n",
        "      #not lower and not upper\n",
        "    else: \n",
        "      pass\n",
        "  return(uppers, lowers)\n",
        "\n",
        "print(calculate(\"Iam undergoing Data Analytics and cloud Training\"))\n",
        "\n"
      ],
      "metadata": {
        "colab": {
          "base_uri": "https://localhost:8080/"
        },
        "id": "oJymmTWTtBZM",
        "outputId": "c49f08fe-0495-417c-892b-5231b26a8dab"
      },
      "execution_count": 2,
      "outputs": [
        {
          "output_type": "stream",
          "name": "stdout",
          "text": [
            "(4, 38)\n"
          ]
        }
      ]
    },
    {
      "cell_type": "code",
      "source": [
        "#2\n",
        "def is_pangram(string):\n",
        "    alp='abcdefghijklmnopqrstuvwxyz'\n",
        "    for c in alp:             \n",
        "        if c in string.lower(): \n",
        "           return True           \n",
        "        return False \n",
        "is_pangram(\"The quick brown fox jumps over the lazy dog\")\n"
      ],
      "metadata": {
        "colab": {
          "base_uri": "https://localhost:8080/"
        },
        "id": "FPuGV-7su8lw",
        "outputId": "1f87065a-e31c-4b20-ad5a-9a014732b7a6"
      },
      "execution_count": 4,
      "outputs": [
        {
          "output_type": "execute_result",
          "data": {
            "text/plain": [
              "True"
            ]
          },
          "metadata": {},
          "execution_count": 4
        }
      ]
    },
    {
      "cell_type": "code",
      "source": [
        "#3\n",
        "def is_Prime(n):\n",
        "    for x in range(2,n):\n",
        "      if(n%x==0):\n",
        "        return False\n",
        "      else:\n",
        "        return True\n",
        "is_Prime(11)"
      ],
      "metadata": {
        "colab": {
          "base_uri": "https://localhost:8080/"
        },
        "id": "U68zGtOow4g3",
        "outputId": "6e1b7a16-9d64-423b-e6b1-00762d363cb3"
      },
      "execution_count": 11,
      "outputs": [
        {
          "output_type": "execute_result",
          "data": {
            "text/plain": [
              "True"
            ]
          },
          "metadata": {},
          "execution_count": 11
        }
      ]
    },
    {
      "cell_type": "code",
      "source": [
        "#4\n",
        "def perfect_number(n):\n",
        "    sum = 0\n",
        "    for x in range(1, n):\n",
        "        if n % x == 0:\n",
        "            sum += x\n",
        "    return sum == n\n",
        "perfect_number(6)\n"
      ],
      "metadata": {
        "colab": {
          "base_uri": "https://localhost:8080/"
        },
        "id": "8Wwzm5lxyXCO",
        "outputId": "b5aa50f1-cb68-470b-935a-143b31da5983"
      },
      "execution_count": 12,
      "outputs": [
        {
          "output_type": "execute_result",
          "data": {
            "text/plain": [
              "True"
            ]
          },
          "metadata": {},
          "execution_count": 12
        }
      ]
    }
  ]
}