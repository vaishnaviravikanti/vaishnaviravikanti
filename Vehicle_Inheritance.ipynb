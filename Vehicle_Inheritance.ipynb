{
  "nbformat": 4,
  "nbformat_minor": 0,
  "metadata": {
    "colab": {
      "provenance": [],
      "authorship_tag": "ABX9TyN0Y4zratcY1s75h6U4gz+l",
      "include_colab_link": true
    },
    "kernelspec": {
      "name": "python3",
      "display_name": "Python 3"
    },
    "language_info": {
      "name": "python"
    }
  },
  "cells": [
    {
      "cell_type": "markdown",
      "metadata": {
        "id": "view-in-github",
        "colab_type": "text"
      },
      "source": [
        "<a href=\"https://colab.research.google.com/github/vaishnaviravikanti/vaishnaviravikanti/blob/main/Vehicle_Inheritance.ipynb\" target=\"_parent\"><img src=\"https://colab.research.google.com/assets/colab-badge.svg\" alt=\"Open In Colab\"/></a>"
      ]
    },
    {
      "cell_type": "code",
      "execution_count": 20,
      "metadata": {
        "colab": {
          "base_uri": "https://localhost:8080/"
        },
        "id": "VMVXTYaLJQkq",
        "outputId": "18a3380e-d0d8-4662-d95a-69c8e00fd106"
      },
      "outputs": [
        {
          "output_type": "stream",
          "name": "stdout",
          "text": [
            "Name: BMW max_speed: 140 mileage: 10 color: Black\n",
            "Name: Audi max_speed: 110 mileage: 12 color: Black\n",
            "True\n",
            "True\n",
            "False\n"
          ]
        }
      ],
      "source": [
        "#1 Write a Python program to create a Vehicle class with name, max_speed and mileage instance attributes.\n",
        "class Vehicle:\n",
        "#2 Define a property that must have the same value for every class instance (object)\n",
        "  color = \"Black\"\n",
        "  def __init__(self,name,max_speed,mileage):\n",
        "    self.name = name\n",
        "    self.max_speed=max_speed\n",
        "    self.mileage=mileage\n",
        "  def display(self):\n",
        "    print('Name:', self.name,'max_speed:',self.max_speed,'mileage:',self.mileage,'color:',Vehicle.color)\n",
        "a=Vehicle('BMW','140','10')\n",
        "a.display() \n",
        "#3 Create a child class 'Bus' that will inherit all of the variables and methods of the Vehicle class\n",
        "class Bus(Vehicle):\n",
        "    pass\n",
        "#4 create an object for child class i.e Bus and check whether the object is an instance of the Vehicle Class\n",
        "b=Bus('Audi','110','12')\n",
        "b.display()\n",
        "print(isinstance(b,Vehicle))\n",
        "#5 Check whether Bus class is a subclass of Vehicle class\n",
        "print(issubclass(Bus,Vehicle))\n",
        "#6 Create an empty class called Car, check whether Car is a sub class of Vehicle Class\n",
        "class Car:\n",
        "  pass\n",
        "print(issubclass(Car,Vehicle))\n",
        "\n"
      ]
    }
  ]
}