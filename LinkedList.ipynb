{
  "nbformat": 4,
  "nbformat_minor": 0,
  "metadata": {
    "colab": {
      "provenance": [],
      "collapsed_sections": [],
      "authorship_tag": "ABX9TyP2FNPuGOHGDbIziFjkDCBb",
      "include_colab_link": true
    },
    "kernelspec": {
      "name": "python3",
      "display_name": "Python 3"
    },
    "language_info": {
      "name": "python"
    }
  },
  "cells": [
    {
      "cell_type": "markdown",
      "metadata": {
        "id": "view-in-github",
        "colab_type": "text"
      },
      "source": [
        "<a href=\"https://colab.research.google.com/github/vaishnaviravikanti/vaishnaviravikanti/blob/main/LinkedList.ipynb\" target=\"_parent\"><img src=\"https://colab.research.google.com/assets/colab-badge.svg\" alt=\"Open In Colab\"/></a>"
      ]
    },
    {
      "cell_type": "code",
      "execution_count": null,
      "metadata": {
        "id": "b8jDAn8J8qsG"
      },
      "outputs": [],
      "source": [
        "#Assesment-2:\n",
        "#Design a linked list, where every node contains firstname,lastname, hobby and phone number.\n",
        "#Write functions to perform the following:\n",
        "\n",
        "#1.Add new element to the list.\n",
        "#2.Search and Rename an element from the list\n",
        "#3.Perform deduplication-means all duplicates should be removed\n",
        "#4.Reverse the list"
      ]
    },
    {
      "cell_type": "code",
      "source": [
        "from typing_extensions import Self\n",
        "class Node:\n",
        "  \n",
        "    # Function to initialise the node object\n",
        "    def __init__(self,firstname,lastname,hobby,phonenumber,ID ):\n",
        "        self.firstname = firstname  # Assign data\n",
        "        self.lastname = lastname\n",
        "        self.hobby = hobby\n",
        "        self.phonenumber = phonenumber\n",
        "        #adding ID\n",
        "        self.ID=ID\n",
        "        \n",
        "        self.next = None  # Initialize next as null\n",
        "#defining linked list\n",
        "class LinkedList:\n",
        "    def __init__(self):\n",
        "        #head is the first element\n",
        "        self.head=None\n",
        "    \n",
        "    \n",
        "        \n",
        "        \n",
        "    def DisplayList(self):\n",
        "                if self.head==None:\n",
        "                    print(\"Empty List\")\n",
        "                else:\n",
        "                    temp=self.head\n",
        "                    while temp != None:\n",
        "                     print('Firstname:',temp.firstname,'Lastname:',temp.lastname,'Hobby:',temp.hobby,'Phonenumber:',temp.phonenumber,'ID:',temp.ID)\n",
        "                     temp=temp.next\n",
        "    \n",
        "    \n",
        "    def search(self, x):\n",
        " \n",
        "        # Initialize current to head\n",
        "        current = self.head\n",
        " \n",
        "        # loop till current not equal to None\n",
        "        while current != None:\n",
        "            if current.firstname == x:\n",
        "                return True  # found\n",
        " \n",
        "            current = current.next\n",
        " \n",
        "        return False  #  Not found\n",
        "     \n",
        "myList=LinkedList()\n",
        "myList.head = Node('Vaishnavi','Ravikanti','cooking','2648526319846','5')\n",
        "second_node = Node('Jhon','son','music','4856498656','6')\n",
        "third_node  = Node('Jhon','son','music','4856498656','9')\n",
        "myList.head.next=second_node\n",
        "second_node.next=third_node\n",
        "myList.DisplayList()\n",
        "myList.search('Jhon')\n",
        "\n",
        "\n",
        "\n",
        "\n",
        "\n",
        "\n",
        "            \n",
        "           \n",
        "\n",
        "\n",
        "        \n",
        "  "
      ],
      "metadata": {
        "colab": {
          "base_uri": "https://localhost:8080/"
        },
        "id": "Udz11s889z7R",
        "outputId": "692b99ca-d8f9-41bd-bf78-43bf9dfd29ca"
      },
      "execution_count": null,
      "outputs": [
        {
          "output_type": "stream",
          "name": "stdout",
          "text": [
            "Firstname: Vaishnavi Lastname: Ravikanti Hobby: cooking Phonenumber: 2648526319846 ID: 5\n",
            "Firstname: Jhon Lastname: son Hobby: music Phonenumber: 4856498656 ID: 6\n",
            "Firstname: Jhon Lastname: son Hobby: music Phonenumber: 4856498656 ID: 9\n"
          ]
        },
        {
          "output_type": "execute_result",
          "data": {
            "text/plain": [
              "True"
            ]
          },
          "metadata": {},
          "execution_count": 55
        }
      ]
    },
    {
      "cell_type": "code",
      "source": [
        "\n"
      ],
      "metadata": {
        "id": "075jxok5mgEV"
      },
      "execution_count": null,
      "outputs": []
    },
    {
      "cell_type": "code",
      "source": [],
      "metadata": {
        "id": "2ApYCgV_k-kJ"
      },
      "execution_count": null,
      "outputs": []
    },
    {
      "cell_type": "code",
      "source": [],
      "metadata": {
        "id": "ouVHo1fIcEs1"
      },
      "execution_count": null,
      "outputs": []
    }
  ]
}