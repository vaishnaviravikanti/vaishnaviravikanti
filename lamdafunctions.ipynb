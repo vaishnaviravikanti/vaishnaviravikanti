{
  "nbformat": 4,
  "nbformat_minor": 0,
  "metadata": {
    "colab": {
      "provenance": [],
      "collapsed_sections": [],
      "authorship_tag": "ABX9TyN3i7F87t8IXS11VjZRfxY5",
      "include_colab_link": true
    },
    "kernelspec": {
      "name": "python3",
      "display_name": "Python 3"
    },
    "language_info": {
      "name": "python"
    }
  },
  "cells": [
    {
      "cell_type": "markdown",
      "metadata": {
        "id": "view-in-github",
        "colab_type": "text"
      },
      "source": [
        "<a href=\"https://colab.research.google.com/github/vaishnaviravikanti/vaishnaviravikanti/blob/main/lamdafunctions.ipynb\" target=\"_parent\"><img src=\"https://colab.research.google.com/assets/colab-badge.svg\" alt=\"Open In Colab\"/></a>"
      ]
    },
    {
      "cell_type": "code",
      "execution_count": null,
      "metadata": {
        "id": "7XESgx3Ij9Bb"
      },
      "outputs": [],
      "source": [
        "#Write a Python program to create a lambda function that adds 15 to a given number passed in as an argument, \n",
        "#also create a lambda function that multiplies argument x with argument y and print the result."
      ]
    },
    {
      "cell_type": "code",
      "source": [
        "#1\n",
        "a=lambda x : x+15\n",
        "print(a(5))"
      ],
      "metadata": {
        "colab": {
          "base_uri": "https://localhost:8080/"
        },
        "id": "F2Ovs5DikP_w",
        "outputId": "f6a39aae-8c3b-4185-ae86-068610a7871f"
      },
      "execution_count": 7,
      "outputs": [
        {
          "output_type": "stream",
          "name": "stdout",
          "text": [
            "20\n"
          ]
        }
      ]
    },
    {
      "cell_type": "code",
      "source": [
        "#1a\n",
        "b=lambda x,y:x*y\n",
        "print(b(5,2))"
      ],
      "metadata": {
        "colab": {
          "base_uri": "https://localhost:8080/"
        },
        "id": "6rYgiEDDlwd3",
        "outputId": "7477ff17-3e3f-4f2b-d682-c8f4e4ff64f7"
      },
      "execution_count": 9,
      "outputs": [
        {
          "output_type": "stream",
          "name": "stdout",
          "text": [
            "10\n"
          ]
        }
      ]
    },
    {
      "cell_type": "code",
      "source": [
        "#2 Write a Python program to extract PRESENT year, month, date and time using Lambda.\n",
        "import datetime\n",
        "currentDateTime = datetime.datetime(2022,9,20)\n",
        "print(currentDateTime)\n",
        "year = lambda x: x.year\n",
        "month = lambda x: x.month\n",
        "day = lambda x: x.day\n",
        "print('Year - ',year(currentDateTime))\n",
        "print('Month - ',month(currentDateTime))\n",
        "print('Day - ',day(currentDateTime))"
      ],
      "metadata": {
        "colab": {
          "base_uri": "https://localhost:8080/"
        },
        "id": "SABUiwianT1f",
        "outputId": "e05a658e-75ee-4c78-f95a-7dfa1e72457d"
      },
      "execution_count": 14,
      "outputs": [
        {
          "output_type": "stream",
          "name": "stdout",
          "text": [
            "2022-09-20 00:00:00\n",
            "Year -  2022\n",
            "Month -  9\n",
            "Day -  20\n"
          ]
        }
      ]
    },
    {
      "cell_type": "code",
      "source": [
        "#3Write a Python program that sum the length of the names of a given list of names after removing the names that starts with a lowercase letter. Use lambda function.\n",
        "sample_names = ['jhon', 'Ram', 'Neha', 'Sasha',  'ketan']\n",
        "sample_names=list(filter(lambda el:el[0].isupper() and el[1:].islower(),sample_names))\n",
        "print(len(''.join(sample_names)))\n"
      ],
      "metadata": {
        "colab": {
          "base_uri": "https://localhost:8080/"
        },
        "id": "1BkJcl_UmpsK",
        "outputId": "660f121e-d3ee-46ee-a5d3-3f3439e62f08"
      },
      "execution_count": 18,
      "outputs": [
        {
          "output_type": "stream",
          "name": "stdout",
          "text": [
            "12\n"
          ]
        }
      ]
    },
    {
      "cell_type": "code",
      "source": [
        "#4 Write a Python program to extract specified size of strings from a give list of string values using lambda\n",
        "def extract_string(str_list1, l):\n",
        "    result = list(filter(lambda e: len(e) == l, str_list1))\n",
        "    return result\n",
        "\n",
        "str_list1 = ['lambda', 'functions', 'exercises', '', 'solution'] \n",
        "print(str_list1)\n",
        "l = int(input(\"Enter the length\"))\n",
        "print(\"length of the string to extract\")\n",
        "print(l)\n",
        "print(\"string of specified length \")\n",
        "print(extract_string(str_list1 , l))\n",
        "\n",
        "\n"
      ],
      "metadata": {
        "colab": {
          "base_uri": "https://localhost:8080/"
        },
        "id": "k_ZC-dOcspzj",
        "outputId": "e488b926-8f15-4f25-f366-a0c832d051d1"
      },
      "execution_count": 26,
      "outputs": [
        {
          "output_type": "stream",
          "name": "stdout",
          "text": [
            "['lambda', 'functions', 'exercises', '', 'solution']\n",
            "Enter the length6\n",
            "length of the string to extract\n",
            "6\n",
            "string of specified length \n",
            "['lambda']\n"
          ]
        }
      ]
    },
    {
      "cell_type": "code",
      "source": [
        "#5 Write a Python program to find the elements of a given list of strings that contain specific substring using lambda.\n",
        "\n",
        "\n",
        "\n",
        "#Original list:['red', 'black', 'white', 'green', 'orange']\n",
        "#Substring to search:ack\n",
        "#Elements of the said list that contain specific substring:['black']\n",
        "def substring(str1, sub_str):\n",
        "    result = list(filter(lambda x: sub_str in x, str1))\n",
        "    return result\n",
        "colors = [\"red\", \"black\", \"white\", \"green\", \"orange\"]\n",
        "print(\"Orig list:\")\n",
        "print(colors)\n",
        "\n",
        "sub_str = \"ack\"\n",
        "print(substring(colors, sub_str))\n",
        "sub_str = \"abc\"\n",
        "print(\"Elements of the said list that contain specific substring:\")\n",
        "print(substring(colors, sub_str))\n",
        "\n",
        "\n"
      ],
      "metadata": {
        "colab": {
          "base_uri": "https://localhost:8080/"
        },
        "id": "phZFzFbGxXGb",
        "outputId": "cf2304f8-e34a-4ac1-d5f6-f917bb5f21ed"
      },
      "execution_count": 46,
      "outputs": [
        {
          "output_type": "stream",
          "name": "stdout",
          "text": [
            "Orig list:\n",
            "['red', 'black', 'white', 'green', 'orange']\n",
            "['black']\n",
            "Elements of the said list that contain specific substring:\n",
            "[]\n"
          ]
        }
      ]
    }
  ]
}