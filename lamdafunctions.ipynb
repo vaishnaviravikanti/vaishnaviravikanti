{
  "nbformat": 4,
  "nbformat_minor": 0,
  "metadata": {
    "colab": {
      "provenance": [],
      "authorship_tag": "ABX9TyOvVrtPhq64gr6h2qRFdtKR",
      "include_colab_link": true
    },
    "kernelspec": {
      "name": "python3",
      "display_name": "Python 3"
    },
    "language_info": {
      "name": "python"
    }
  },
  "cells": [
    {
      "cell_type": "markdown",
      "metadata": {
        "id": "view-in-github",
        "colab_type": "text"
      },
      "source": [
        "<a href=\"https://colab.research.google.com/github/vaishnaviravikanti/vaishnaviravikanti/blob/main/lamdafunctions.ipynb\" target=\"_parent\"><img src=\"https://colab.research.google.com/assets/colab-badge.svg\" alt=\"Open In Colab\"/></a>"
      ]
    },
    {
      "cell_type": "code",
      "execution_count": null,
      "metadata": {
        "id": "7XESgx3Ij9Bb"
      },
      "outputs": [],
      "source": [
        "#Write a Python program to create a lambda function that adds 15 to a given number passed in as an argument, \n",
        "#also create a lambda function that multiplies argument x with argument y and print the result."
      ]
    },
    {
      "cell_type": "code",
      "source": [
        "#1\n",
        "a=lambda x : x+15\n",
        "print(a(5))"
      ],
      "metadata": {
        "colab": {
          "base_uri": "https://localhost:8080/"
        },
        "id": "F2Ovs5DikP_w",
        "outputId": "f6a39aae-8c3b-4185-ae86-068610a7871f"
      },
      "execution_count": 7,
      "outputs": [
        {
          "output_type": "stream",
          "name": "stdout",
          "text": [
            "20\n"
          ]
        }
      ]
    },
    {
      "cell_type": "code",
      "source": [
        "#2\n",
        "b=lambda x,y:x*y\n",
        "print(b(5,2))"
      ],
      "metadata": {
        "colab": {
          "base_uri": "https://localhost:8080/"
        },
        "id": "6rYgiEDDlwd3",
        "outputId": "7477ff17-3e3f-4f2b-d682-c8f4e4ff64f7"
      },
      "execution_count": 9,
      "outputs": [
        {
          "output_type": "stream",
          "name": "stdout",
          "text": [
            "10\n"
          ]
        }
      ]
    }
  ]
}