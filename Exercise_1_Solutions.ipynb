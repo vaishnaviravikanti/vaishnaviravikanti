{
  "nbformat": 4,
  "nbformat_minor": 0,
  "metadata": {
    "colab": {
      "provenance": [],
      "collapsed_sections": [],
      "authorship_tag": "ABX9TyM6/pE3/fjRwkT0bi0HAOGz",
      "include_colab_link": true
    },
    "kernelspec": {
      "name": "python3",
      "display_name": "Python 3"
    },
    "language_info": {
      "name": "python"
    }
  },
  "cells": [
    {
      "cell_type": "markdown",
      "metadata": {
        "id": "view-in-github",
        "colab_type": "text"
      },
      "source": [
        "<a href=\"https://colab.research.google.com/github/vaishnaviravikanti/vaishnaviravikanti/blob/main/Exercise_1_Solutions.ipynb\" target=\"_parent\"><img src=\"https://colab.research.google.com/assets/colab-badge.svg\" alt=\"Open In Colab\"/></a>"
      ]
    },
    {
      "cell_type": "code",
      "execution_count": 6,
      "metadata": {
        "colab": {
          "base_uri": "https://localhost:8080/"
        },
        "id": "5zGw12lK956M",
        "outputId": "f498268b-d215-4833-8a0a-f990ded983cd"
      },
      "outputs": [
        {
          "output_type": "stream",
          "name": "stdout",
          "text": [
            "Overwriting script.py\n"
          ]
        }
      ],
      "source": [
        "\n",
        "#Write a program to iterate the first 10 numbers and in each iteration, print the sum of the current and previous number. \n",
        "%%writefile script.py\n",
        "num = list(range(10))\n",
        "previousNum = 0\n",
        "for i in num:\n",
        "    sum = previousNum + i\n",
        "    print('Current Number '+ str(i) + 'Previous Number ' + str(previousNum) + 'is ' + str(sum)) \n",
        "    previousNum=i"
      ]
    },
    {
      "cell_type": "code",
      "source": [
        "#Write a program to accept a string from the user and display characters that are present at an even index number.\n",
        "\n",
        "%%writefile script1.py\n",
        "str=input(\"Enter the string\")\n",
        "even_index_str(::2)\n",
        "print(even_index_str)\n",
        "\n"
      ],
      "metadata": {
        "colab": {
          "base_uri": "https://localhost:8080/"
        },
        "id": "JZvenRFGCaIe",
        "outputId": "dd23140c-3239-45a3-e29f-830ab94d61e6"
      },
      "execution_count": 17,
      "outputs": [
        {
          "output_type": "stream",
          "name": "stdout",
          "text": [
            "Writing script1.py\n"
          ]
        }
      ]
    },
    {
      "cell_type": "code",
      "source": [],
      "metadata": {
        "id": "pPHK5WXlJmAs"
      },
      "execution_count": null,
      "outputs": []
    },
    {
      "cell_type": "code",
      "source": [
        " #Iterate the given list of numbers and print only those numbers which are divisible by 5 \n",
        "%%writefile script2.py\n",
        "numb = [] \n",
        "for i in range(10): \n",
        "\tnum = int(input('Enter number:')) \n",
        "\tnumb.append(num) \n",
        " \n",
        "for i in numb: \n",
        "\tif i % 5 == 0: \n",
        "\t\tprint(i) \n"
      ],
      "metadata": {
        "colab": {
          "base_uri": "https://localhost:8080/"
        },
        "id": "C4RcewbxBRnS",
        "outputId": "753ef269-d51c-43cf-a436-b97fecae648f"
      },
      "execution_count": 51,
      "outputs": [
        {
          "output_type": "stream",
          "name": "stdout",
          "text": [
            "Writing script2.py\n"
          ]
        }
      ]
    },
    {
      "cell_type": "code",
      "source": [
        "#Palindrome\n",
        "%%writefile script3.py\n",
        "x=int(input(\"Enter a number\"))\n",
        "temp = x\n",
        "reverse=0\n",
        "while(x>0):\n",
        "  a=x%10\n",
        "  reverse=reverse*10+a\n",
        "  x=x//10\n",
        "if(temp==reverse):\n",
        "  print(\"The number is palindrome\")\n",
        "else:\n",
        "  print(\"Not Palindrome\")"
      ],
      "metadata": {
        "colab": {
          "base_uri": "https://localhost:8080/"
        },
        "id": "2lhn5T20OyfV",
        "outputId": "d2f8b8f8-ef5d-45ee-8b9e-1ca8fd33e52e"
      },
      "execution_count": 52,
      "outputs": [
        {
          "output_type": "stream",
          "name": "stdout",
          "text": [
            "Writing script3.py\n"
          ]
        }
      ]
    },
    {
      "cell_type": "code",
      "source": [
        "#Given a two list of numbers, write a program to create a new list such that the new list should contain odd numbers from the first list and even numbers from the second list. \n",
        "%%writefile script4.py\n",
        "from numpy import array\n",
        "a=array([1,2,3,4,5]) \n",
        "b=array([6,7,8,9,10]) \n",
        "c=[*a[a%2!=0],*b[b%2==0]]\n",
        "print(c)"
      ],
      "metadata": {
        "colab": {
          "base_uri": "https://localhost:8080/"
        },
        "id": "zQPe8DwhXx-z",
        "outputId": "44d61303-2430-4ca2-a1b3-ff148b5ed2b6"
      },
      "execution_count": 53,
      "outputs": [
        {
          "output_type": "stream",
          "name": "stdout",
          "text": [
            "Writing script4.py\n"
          ]
        }
      ]
    },
    {
      "cell_type": "code",
      "source": [
        "%%writefile script5.py\n",
        "num = int(input(\"Enter a number with multiple digit: \"))\n",
        "n=0\n",
        "while num>0:\n",
        "    a = num%10\n",
        "    num = num - a\n",
        "    num = num/10\n",
        "    print(int(a),end=\"\")\n",
        "    n = n + 1   \n",
        "print(n)"
      ],
      "metadata": {
        "colab": {
          "base_uri": "https://localhost:8080/"
        },
        "id": "URAr6xXZYtcM",
        "outputId": "2e3f64cc-1e71-4a57-f1c3-fa99d8814fd4"
      },
      "execution_count": 54,
      "outputs": [
        {
          "output_type": "stream",
          "name": "stdout",
          "text": [
            "Writing script5.py\n"
          ]
        }
      ]
    },
    {
      "cell_type": "code",
      "source": [
        "%%writefile script6.py\n",
        "for i in range(1,11):\n",
        "    print(\"\\n\\nMULTIPLICATION TABLE FOR %d\\n\" %(i))\n",
        "    for j in range(1,11):\n",
        "        print(\"%-5d X %5d = %5d\" % (i, j, i*j))"
      ],
      "metadata": {
        "colab": {
          "base_uri": "https://localhost:8080/"
        },
        "id": "sWHa89YRbG5a",
        "outputId": "feb74598-93d9-4f1a-901e-d544fbb45fc8"
      },
      "execution_count": 55,
      "outputs": [
        {
          "output_type": "stream",
          "name": "stdout",
          "text": [
            "Writing script6.py\n"
          ]
        }
      ]
    },
    {
      "cell_type": "code",
      "source": [
        "%%writefile script7.py\n",
        "rows = int(input(\"Enter the number of rows: \"))  \n",
        "  \n",
        "# the outer loop is executing in reversed order  \n",
        "for i in range(rows + 1, 0, -1):    \n",
        "    for j in range(0, i - 1):  \n",
        "        print(\"*\", end=' ')  \n",
        "    print(\" \")  "
      ],
      "metadata": {
        "colab": {
          "base_uri": "https://localhost:8080/"
        },
        "id": "gZYKYBE5bXvb",
        "outputId": "d9e53d98-8fef-4104-c8ae-6a4cf6edf21c"
      },
      "execution_count": 56,
      "outputs": [
        {
          "output_type": "stream",
          "name": "stdout",
          "text": [
            "Writing script7.py\n"
          ]
        }
      ]
    }
  ]
}