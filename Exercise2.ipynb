{
  "nbformat": 4,
  "nbformat_minor": 0,
  "metadata": {
    "colab": {
      "provenance": [],
      "collapsed_sections": [],
      "authorship_tag": "ABX9TyNJ1IcBK+xNp99d16W0oszX",
      "include_colab_link": true
    },
    "kernelspec": {
      "name": "python3",
      "display_name": "Python 3"
    },
    "language_info": {
      "name": "python"
    }
  },
  "cells": [
    {
      "cell_type": "markdown",
      "metadata": {
        "id": "view-in-github",
        "colab_type": "text"
      },
      "source": [
        "<a href=\"https://colab.research.google.com/github/vaishnaviravikanti/vaishnaviravikanti/blob/main/Exercise2.ipynb\" target=\"_parent\"><img src=\"https://colab.research.google.com/assets/colab-badge.svg\" alt=\"Open In Colab\"/></a>"
      ]
    },
    {
      "cell_type": "code",
      "execution_count": 2,
      "metadata": {
        "colab": {
          "base_uri": "https://localhost:8080/"
        },
        "id": "qwos340LmR3J",
        "outputId": "b659a577-408d-4d28-9be3-a576bacf268c"
      },
      "outputs": [
        {
          "output_type": "stream",
          "name": "stdout",
          "text": [
            "Writing script8.py\n"
          ]
        }
      ],
      "source": [
        "%%writefile script9.py\n",
        "rows = 5\n",
        "for i in range(1, rows + 1):\n",
        "    for j in range(1, i + 1):\n",
        "        print(j, end=' ')\n",
        "    print('')"
      ]
    },
    {
      "cell_type": "code",
      "source": [
        "a, b, c = input(\"Enter three values: \").split()  \n",
        "print(\"Enter Your First Name: \", a)  \n",
        "print(\"Enter Your Last Name: \", b)  \n",
        "print(\"Enter Your Age: \", c)  \n",
        "print()  "
      ],
      "metadata": {
        "colab": {
          "base_uri": "https://localhost:8080/"
        },
        "id": "TWzebzVSoO33",
        "outputId": "6afa7727-75c6-423b-b23c-e131b5eb1cb2"
      },
      "execution_count": 4,
      "outputs": [
        {
          "output_type": "stream",
          "name": "stdout",
          "text": [
            "Enter three values: Vaishnavi Ravikanti 21\n",
            "Enter Your First Name:  Vaishnavi\n",
            "Enter Your Last Name:  Ravikanti\n",
            "Enter Your Age:  21\n",
            "\n"
          ]
        }
      ]
    },
    {
      "cell_type": "code",
      "source": [
        "n = int(input(\"Enter a number: \"))\n",
        "sum = 0\n",
        "for i in range(n + 1):\n",
        "  sum += i\n",
        "print(\"The sum of all numbers from 1 to the given number is: \", sum)"
      ],
      "metadata": {
        "colab": {
          "base_uri": "https://localhost:8080/"
        },
        "id": "ReS1oFH5r2RK",
        "outputId": "cfc21ae5-415b-4400-be4c-cdc0f99917b5"
      },
      "execution_count": 5,
      "outputs": [
        {
          "output_type": "stream",
          "name": "stdout",
          "text": [
            "Enter a number: 22\n",
            "The sum of all numbers from 1 to the given number is:  253\n"
          ]
        }
      ]
    },
    {
      "cell_type": "code",
      "source": [
        "def Reverse(lst):\n",
        "\tnew_lst = lst[::-1]\n",
        "\treturn new_lst\n",
        "\n",
        "\n",
        "lst = [9, 21, 3, 44, 1]\n",
        "print(Reverse(lst))\n"
      ],
      "metadata": {
        "colab": {
          "base_uri": "https://localhost:8080/"
        },
        "id": "1X8_ZOpLr90q",
        "outputId": "1244b848-a62d-4fdb-925d-edd382c44202"
      },
      "execution_count": 7,
      "outputs": [
        {
          "output_type": "stream",
          "name": "stdout",
          "text": [
            "[1, 44, 3, 21, 9]\n"
          ]
        }
      ]
    },
    {
      "cell_type": "code",
      "source": [
        "\n",
        "\n",
        "lower_num = int(input (\" Enter the Lowest Range num: \"))  \n",
        "upper_num = int(input (\" Enter the Upper Range num: \"))  \n",
        "  \n",
        "print (\"The Prime Numbers in the range are: \")  \n",
        "for number in range (lower_num, upper_num + 1):  \n",
        "    if number > 1:  \n",
        "        for i in range (2, number):  \n",
        "            if (number % i) == 0:  \n",
        "                break  \n",
        "        else:  \n",
        "            print (number)  "
      ],
      "metadata": {
        "colab": {
          "base_uri": "https://localhost:8080/"
        },
        "id": "EZ0Dejx1sOV7",
        "outputId": "70398ab6-7049-4f2e-9933-84b06e16a06e"
      },
      "execution_count": 8,
      "outputs": [
        {
          "output_type": "stream",
          "name": "stdout",
          "text": [
            " Enter the Lowest Range num: 5\n",
            " Enter the Upper Range num: 45\n",
            "The Prime Numbers in the range are: \n",
            "5\n",
            "7\n",
            "11\n",
            "13\n",
            "17\n",
            "19\n",
            "23\n",
            "29\n",
            "31\n",
            "37\n",
            "41\n",
            "43\n"
          ]
        }
      ]
    },
    {
      "cell_type": "code",
      "source": [
        "num = int(input(\"Enter a number: \"))\n",
        "\n",
        "factorial = 1\n",
        "\n",
        "if num < 0:\n",
        "   print(\"Sorry, factorial does not exist for negative numbers\")\n",
        "elif num == 0:\n",
        "   print(\"The factorial of 0 is 1\")\n",
        "else:\n",
        "   for i in range(1,num + 1):\n",
        "       factorial = factorial*i\n",
        "   print(\"The factorial of\",num,\"is\",factorial)"
      ],
      "metadata": {
        "colab": {
          "base_uri": "https://localhost:8080/"
        },
        "id": "iiGk7lfisUIx",
        "outputId": "58b5e84f-6f92-4faa-b785-9d0639765cf7"
      },
      "execution_count": 9,
      "outputs": [
        {
          "output_type": "stream",
          "name": "stdout",
          "text": [
            "Enter a number: 8\n",
            "The factorial of 8 is 40320\n"
          ]
        }
      ]
    },
    {
      "cell_type": "code",
      "source": [
        "rows = 5\n",
        "for i in range(0, rows):\n",
        "    for j in range(0, i + 1):\n",
        "        print(\"*\", end=' ')\n",
        "    print(\"\\r\")\n",
        "\n",
        "for i in range(rows, 0, -1):\n",
        "    for j in range(0, i - 1):\n",
        "        print(\"*\", end=' ')\n",
        "    print(\"\\r\")"
      ],
      "metadata": {
        "id": "A0ej0c3Isd9-",
        "outputId": "f80e66c2-8b3e-4ad7-d846-94cb9148cd79",
        "colab": {
          "base_uri": "https://localhost:8080/"
        }
      },
      "execution_count": 10,
      "outputs": [
        {
          "output_type": "stream",
          "name": "stdout",
          "text": [
            "* \r\n",
            "* * \r\n",
            "* * * \r\n",
            "* * * * \r\n",
            "* * * * * \r\n",
            "* * * * \r\n",
            "* * * \r\n",
            "* * \r\n",
            "* \r\n",
            "\r\n"
          ]
        }
      ]
    }
  ]
}