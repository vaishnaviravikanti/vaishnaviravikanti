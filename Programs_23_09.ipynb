{
  "nbformat": 4,
  "nbformat_minor": 0,
  "metadata": {
    "colab": {
      "provenance": [],
      "collapsed_sections": [],
      "authorship_tag": "ABX9TyM7HsduWwVGNwYou2KvjbDV",
      "include_colab_link": true
    },
    "kernelspec": {
      "name": "python3",
      "display_name": "Python 3"
    },
    "language_info": {
      "name": "python"
    }
  },
  "cells": [
    {
      "cell_type": "markdown",
      "metadata": {
        "id": "view-in-github",
        "colab_type": "text"
      },
      "source": [
        "<a href=\"https://colab.research.google.com/github/vaishnaviravikanti/vaishnaviravikanti/blob/main/Programs_23_09.ipynb\" target=\"_parent\"><img src=\"https://colab.research.google.com/assets/colab-badge.svg\" alt=\"Open In Colab\"/></a>"
      ]
    },
    {
      "cell_type": "code",
      "execution_count": null,
      "metadata": {
        "colab": {
          "base_uri": "https://localhost:8080/"
        },
        "id": "wJ_N3XH8vbqa",
        "outputId": "622963db-f8e3-42e3-f422-518fa819a3f3"
      },
      "outputs": [
        {
          "output_type": "stream",
          "name": "stdout",
          "text": [
            "23\n",
            "vaishnavi\n",
            "V\n",
            "Id 23 class V\n"
          ]
        }
      ],
      "source": [
        "#python class\n",
        "#Write a Python class named Student with two attributes student_id, student_name.\n",
        "# Add a new attribute student_class and display the entire attribute and their values of the said class.\n",
        "#Now remove the student_name attribute and display the entire attribute with values\n",
        "class Student:\n",
        "      student_id=23\n",
        "      student_name=\"vaishnavi\"\n",
        "Student.student_class='V'\n",
        "print(Student.student_id)\n",
        "print(Student.student_name)\n",
        "print(Student.student_class)\n",
        "del Student.student_name\n",
        "print(\"Id\",Student.student_id,#\"name\",Student.student_name,Student' has no attribute 'student_name'\n",
        "      \"class\",Student.student_class)\n"
      ]
    },
    {
      "cell_type": "code",
      "source": [
        "#Write a python class to implement pow (x,n)\n",
        "class power:\n",
        "   def pow(self, x, n):\n",
        "        if x==0 or x==1 or n==1:\n",
        "            return x \n",
        "\n",
        "        if x==-1:\n",
        "            if n%2 ==0:\n",
        "                return 1\n",
        "            else:\n",
        "                return -1\n",
        "        if n==0:\n",
        "            return 1\n",
        "        if n<0:\n",
        "            return 1/self.pow(x,-n)\n",
        "        val = self.pow(x,n//2)\n",
        "        if n%2 ==0:\n",
        "            return val*val\n",
        "        return val*val*x\n",
        "        \n",
        "        \n",
        "\n",
        "print(power().pow(2, -3));\n",
        "print(power().pow(3, 5));\n",
        "print(power().pow(100, 0));\n"
      ],
      "metadata": {
        "colab": {
          "base_uri": "https://localhost:8080/"
        },
        "id": "FmJeARQT3zh4",
        "outputId": "21bfebbf-f409-4eab-8c23-a94ca66f367a"
      },
      "execution_count": null,
      "outputs": [
        {
          "output_type": "stream",
          "name": "stdout",
          "text": [
            "0.125\n",
            "243\n",
            "1\n"
          ]
        }
      ]
    },
    {
      "cell_type": "code",
      "source": [
        "class Circle():\n",
        "    def __init__(self, r):\n",
        "        self.radius = r\n",
        "\n",
        "    def area(self):\n",
        "        return 3.14*self.radius**2\n",
        "    \n",
        "    \n",
        "    def perimeter(self):\n",
        "        return 2*3.14*self.radius\n",
        "\n",
        "a = Circle(5)\n",
        "print(a.area())\n",
        "print(a.perimeter())\n"
      ],
      "metadata": {
        "colab": {
          "base_uri": "https://localhost:8080/"
        },
        "id": "99H6Iw5e3ies",
        "outputId": "1b562101-dd19-495e-cdce-61251d3a7b4c"
      },
      "execution_count": null,
      "outputs": [
        {
          "output_type": "stream",
          "name": "stdout",
          "text": [
            "78.5\n",
            "31.400000000000002\n"
          ]
        }
      ]
    },
    {
      "cell_type": "code",
      "source": [
        "class Power:\n",
        "      def pow(self,x,n):\n",
        "        if n==0:\n",
        "          return 1\n",
        "        if n<0:\n",
        "          return 1/self.pow(x,-n)\n",
        "        pow=1\n",
        "        for i in range(n):\n",
        "          pow=pow*x\n",
        "        return pow\n",
        "print(power().pow(3,-2))\n"
      ],
      "metadata": {
        "colab": {
          "base_uri": "https://localhost:8080/"
        },
        "id": "m3E6FxGr_5mJ",
        "outputId": "45ff6fff-409a-4e79-94fa-bdd8b328d31a"
      },
      "execution_count": null,
      "outputs": [
        {
          "output_type": "stream",
          "name": "stdout",
          "text": [
            "0.1111111111111111\n"
          ]
        }
      ]
    },
    {
      "cell_type": "code",
      "source": [
        "class Reverse1:\n",
        "    def reverse_words(self, s):\n",
        "        return ' '.join(reversed(s.split()))\n",
        "\n",
        "\n",
        "print(Reverse1().reverse_words('Data Analytics Training'))\n"
      ],
      "metadata": {
        "colab": {
          "base_uri": "https://localhost:8080/"
        },
        "id": "DzJVOmT8EAPe",
        "outputId": "de84b459-ea4a-450e-a385-9bb2b84a4689"
      },
      "execution_count": null,
      "outputs": [
        {
          "output_type": "stream",
          "name": "stdout",
          "text": [
            "Training Analytics Data\n"
          ]
        }
      ]
    },
    {
      "cell_type": "code",
      "source": [
        "class Conversion:\n",
        "  def romanToInt(self, s: str) -> int:\n",
        "        # Dictionary with values for Roman numerals\n",
        "        ROMANS = {'I': 1, 'V': 5, 'X': 10, 'L': 50, 'C': 100, 'D': 500, 'M': 1000}\n",
        "        \n",
        "        # Variable for accumulating total\n",
        "        number = 0\n",
        "        \n",
        "        # Process all characters except the last one\n",
        "        for i in range(len(s) - 1):\n",
        "            if ROMANS[s[i + 1]]  > ROMANS[s[i]]:\n",
        "                number -= ROMANS[s[i]]\n",
        "            else:\n",
        "                number += ROMANS[s[i]]\n",
        "                \n",
        "        # Process last character\n",
        "        number += ROMANS[s[len(s) - 1]]\n",
        "        \n",
        "        return number\n",
        "a=Conversion()\n",
        "print(a.romanToInt('XXXX'))"
      ],
      "metadata": {
        "colab": {
          "base_uri": "https://localhost:8080/"
        },
        "id": "ygomFBLA6rgh",
        "outputId": "33da2120-7cc0-4e2c-9a1d-016c35dcd9b6"
      },
      "execution_count": 3,
      "outputs": [
        {
          "output_type": "stream",
          "name": "stdout",
          "text": [
            "40\n"
          ]
        }
      ]
    }
  ]
}