{
  "nbformat": 4,
  "nbformat_minor": 0,
  "metadata": {
    "colab": {
      "provenance": [],
      "collapsed_sections": [],
      "authorship_tag": "ABX9TyPa2VcjEORUFwBrWuCRbIrI",
      "include_colab_link": true
    },
    "kernelspec": {
      "name": "python3",
      "display_name": "Python 3"
    },
    "language_info": {
      "name": "python"
    }
  },
  "cells": [
    {
      "cell_type": "markdown",
      "metadata": {
        "id": "view-in-github",
        "colab_type": "text"
      },
      "source": [
        "<a href=\"https://colab.research.google.com/github/vaishnaviravikanti/vaishnaviravikanti/blob/main/Function_Exercise.ipynb\" target=\"_parent\"><img src=\"https://colab.research.google.com/assets/colab-badge.svg\" alt=\"Open In Colab\"/></a>"
      ]
    },
    {
      "cell_type": "code",
      "execution_count": 7,
      "metadata": {
        "colab": {
          "base_uri": "https://localhost:8080/"
        },
        "id": "Xso-f3teIQbX",
        "outputId": "855c2034-97ed-4a86-8947-aa329dc3b72d"
      },
      "outputs": [
        {
          "output_type": "stream",
          "name": "stdout",
          "text": [
            "2\n",
            "(3, 5, 4, 7)\n"
          ]
        }
      ],
      "source": [
        "#Create a function in such a way that we can pass any number of arguments to this function, and the function should process them and display each argument’s value \n",
        "def f1(a,*b):\n",
        "  print(a)\n",
        "  print(b)\n",
        "f1(2,3,5,4,7)"
      ]
    },
    {
      "cell_type": "code",
      "source": [
        "#Write a program to create function calculation() such that it can accept two variables and calculate addition and subtraction. Also, it must return both addition and subtraction in a single return call. \n",
        "def calculation(a,b):\n",
        "    addition = a+b\n",
        "    subtraction = a-b\n",
        "    return addition,subtraction\n",
        "res = calculation(3,5)\n",
        "print(res)"
      ],
      "metadata": {
        "colab": {
          "base_uri": "https://localhost:8080/"
        },
        "id": "Z4EDfXTYMgrs",
        "outputId": "17c3204d-b3d7-4253-e575-fe9536b34021"
      },
      "execution_count": 11,
      "outputs": [
        {
          "output_type": "stream",
          "name": "stdout",
          "text": [
            "(8, -2)\n"
          ]
        }
      ]
    },
    {
      "cell_type": "code",
      "source": [
        "#Write a program to create a function show_employee() using the following conditions. \n",
        "\n",
        "#A)It should accept the employee’s name and salary and display both. \n",
        "\n",
        "#B)If the salary is missing in the function call then assign default value 9000 to salary \n",
        "\n",
        "#(A)\n",
        "def show_employee(emp_name,salary=9000):\n",
        "    return emp_name,salary\n",
        "show_employee(\"Naina\",5000)\n",
        "\n",
        "\n",
        "    "
      ],
      "metadata": {
        "colab": {
          "base_uri": "https://localhost:8080/"
        },
        "id": "ONnz5uIOOAsR",
        "outputId": "41fa7d27-33bb-42dd-83a2-454040fd3f1f"
      },
      "execution_count": 17,
      "outputs": [
        {
          "output_type": "execute_result",
          "data": {
            "text/plain": [
              "('Naina', 5000)"
            ]
          },
          "metadata": {},
          "execution_count": 17
        }
      ]
    },
    {
      "cell_type": "code",
      "source": [
        "#(B)\n",
        "show_employee('swarna')"
      ],
      "metadata": {
        "colab": {
          "base_uri": "https://localhost:8080/"
        },
        "id": "diHc_OoKPHiY",
        "outputId": "b59c2398-6e34-4459-d4fa-9e10ef81f2d3"
      },
      "execution_count": 18,
      "outputs": [
        {
          "output_type": "execute_result",
          "data": {
            "text/plain": [
              "('swarna', 9000)"
            ]
          },
          "metadata": {},
          "execution_count": 18
        }
      ]
    },
    {
      "cell_type": "code",
      "source": [
        "#Create an outer function that will accept two parameters, a and b,   \n",
        "#Create an inner function inside an outer function that will calculate the addition of a and b,  \n",
        "#At last, an outer function will add 5 into addition and return it \n",
        "\n",
        "def outer(a,b):\n",
        "    def inner(a,b):\n",
        "        c=a+b\n",
        "        return c\n",
        "    add=inner(a,b)\n",
        "    return add+5\n",
        "outer(2,3)\n",
        "\n"
      ],
      "metadata": {
        "colab": {
          "base_uri": "https://localhost:8080/"
        },
        "id": "xGiyKIYrPWsi",
        "outputId": "75afa0bb-783d-4a7e-eb50-b6f9cb480ead"
      },
      "execution_count": 24,
      "outputs": [
        {
          "output_type": "execute_result",
          "data": {
            "text/plain": [
              "10"
            ]
          },
          "metadata": {},
          "execution_count": 24
        }
      ]
    },
    {
      "cell_type": "code",
      "source": [],
      "metadata": {
        "id": "2Y3EUbMaPL4y"
      },
      "execution_count": null,
      "outputs": []
    }
  ]
}